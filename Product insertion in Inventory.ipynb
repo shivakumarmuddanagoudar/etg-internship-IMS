{
 "cells": [
  {
   "cell_type": "code",
   "execution_count": 1,
   "id": "c3df6e62",
   "metadata": {},
   "outputs": [],
   "source": [
    "stock_records = {1001 : {'name': 'pen',\n",
    "                         'qty': 50,\n",
    "                         'price': 10,\n",
    "                         'isAvailable':1,\n",
    "                         'Expiry':'5/10/2021'},\n",
    "                1002 : {'name': 'pencil',\n",
    "                         'qty': 100,\n",
    "                         'price': 5,\n",
    "                         'isAvailable':1,\n",
    "                         'Expiry':'10/10/2021'},\n",
    "                1003 : {'name': 'book',\n",
    "                         'qty': 200,\n",
    "                         'price': 50,\n",
    "                         'isAvailable':1,\n",
    "                         'Expiry':'5/11/2021'},\n",
    "                 1004 : {'name': 'notebook',\n",
    "                         'qty': 200,\n",
    "                         'price': 40,\n",
    "                         'isAvailable':1,\n",
    "                         'Expiry':'10/11/2021'},\n",
    "                 1005 : {'name': 'Guide',\n",
    "                         'qty': 20,\n",
    "                         'price': 100,\n",
    "                         'isAvailable':1,\n",
    "                         'Expiry':'15/10/2021'},\n",
    "                 1006 : {'name': 'chart',\n",
    "                         'qty': 50,\n",
    "                         'price': 20,\n",
    "                         'isAvailable':1,\n",
    "                         'Expiry':'5/10/2022'},\n",
    "                 1007 : {'name': 'map',\n",
    "                         'qty': 50,\n",
    "                         'price': 10,\n",
    "                         'isAvailable':1,\n",
    "                         'Expiry':'5/1/2021'},\n",
    "                 1008 : {'name': 'graph',\n",
    "                         'qty': 50,\n",
    "                         'price': 2,\n",
    "                         'isAvailable':1,\n",
    "                         'Expiry':'20/10/2021'},\n",
    "                 1009 : {'name': 'melody',\n",
    "                         'qty': 500,\n",
    "                         'price': 1,\n",
    "                         'isAvailable':1,\n",
    "                         'Expiry':'5/12/2021'},\n",
    "                 1010 : {'name': 'mango bite',\n",
    "                         'qty': 300,\n",
    "                         'price': 1,\n",
    "                         'isAvailable':1,\n",
    "                         'Expiry':'5/10/2022'},\n",
    "                 1011 : {'name': 'popins',\n",
    "                         'qty': 100,\n",
    "                         'price': 5,\n",
    "                         'isAvailable':1,\n",
    "                         'Expiry':'15/10/2022'},\n",
    "                 1012 : {'name': 'little hearts',\n",
    "                         'qty': 100,\n",
    "                         'price': 5,\n",
    "                         'isAvailable':1,\n",
    "                         'Expiry':'15/4/2022'},\n",
    "                 1013 : {'name': 'banana chips',\n",
    "                         'qty': 80,\n",
    "                         'price': 5,\n",
    "                         'isAvailable':1,\n",
    "                         'Expiry':'15/9/2022'},\n",
    "                 1014 : {'name': 'potato chips',\n",
    "                         'qty': 100,\n",
    "                         'price': 5,\n",
    "                         'isAvailable':1,\n",
    "                         'Expiry':'1/10/2022'},\n",
    "                 1015 : {'name': 'wheel',\n",
    "                         'qty': 10,\n",
    "                         'price': 500,\n",
    "                         'isAvailable':1,\n",
    "                         'Expiry':'15/1/2022'},\n",
    "                 1016 : {'name': 'screw driver',\n",
    "                         'qty': 50,\n",
    "                         'price': 15,\n",
    "                         'isAvailable':1,\n",
    "                         'Expiry':'15/7/2021'},\n",
    "                 1017 : {'name': 'scisors',\n",
    "                         'qty': 100,\n",
    "                         'price': 20,\n",
    "                         'isAvailable':1,\n",
    "                         'Expiry':'15/10/2023'},\n",
    "                 1018 : {'name': 'lighter',\n",
    "                         'qty': 10,\n",
    "                         'price': 50,\n",
    "                         'isAvailable':1,\n",
    "                         'Expiry':'1/5/2022'},\n",
    "                 1019 : {'name': 'charger',\n",
    "                         'qty': 30,\n",
    "                         'price': 200,\n",
    "                         'isAvailable':1,\n",
    "                         'Expiry':'15/1/2024'},\n",
    "                 1020 : {'name': 'mobile',\n",
    "                         'qty': 25,\n",
    "                         'price': 10000,\n",
    "                         'isAvailable':1,\n",
    "                         'Expiry':'1/1/2025'},\n",
    "                 1021 : {'name': 'headphone',\n",
    "                         'qty': 30,\n",
    "                         'price': 1000,\n",
    "                         'isAvailable':1,\n",
    "                         'Expiry':'1/1/2025'},\n",
    "                 1022 : {'name': 'earphone',\n",
    "                         'qty': 30,\n",
    "                         'price': 500,\n",
    "                         'isAvailable':1,\n",
    "                         'Expiry':'1/1/2025'},\n",
    "                 1023 : {'name': 'mouse',\n",
    "                         'qty': 20,\n",
    "                         'price': 1000,\n",
    "                          'isAvailable':1,\n",
    "                         'Expiry':'1/1/2025'},\n",
    "                 1024 : {'name': 'project paper',\n",
    "                         'qty': 500,\n",
    "                         'price': 1,\n",
    "                         'isAvailable':1,\n",
    "                         'Expiry':'1/10/2024'},\n",
    "                 1025 : {'name': 'board',\n",
    "                         'qty': 10,\n",
    "                         'price': 300,\n",
    "                         'isAvailable':1,\n",
    "                         'Expiry':'1/10/2025'},\n",
    "                 1026 : {'name': 'battery',\n",
    "                         'qty': 20,\n",
    "                         'price': 200,\n",
    "                         'isAvailable':1,\n",
    "                         'Expiry':'19/1/2022'},\n",
    "                 1027 : {'name': 'cell',\n",
    "                         'qty': 50,\n",
    "                         'price': 10,\n",
    "                         'isAvailable':1,\n",
    "                         'Expiry':'1/1/2021'},\n",
    "                 1028 : {'name': 'bag',\n",
    "                         'qty': 20,\n",
    "                         'price': 100,\n",
    "                         'isAvailable':1,\n",
    "                         'Expiry':'1/10/2023'},\n",
    "                 1029 : {'name': 'purse',\n",
    "                         'qty': 30,\n",
    "                         'price': 150,\n",
    "                         'isAvailable':1,\n",
    "                         'Expiry':'1/1/2025'},\n",
    "                 1030 : {'name': 'wallet',\n",
    "                         'qty': 30,\n",
    "                         'price': 100,\n",
    "                         'isAvailable':1,\n",
    "                         'Expiry':'1/1/2025'},\n",
    "                 1031 : {'name': 'belt',\n",
    "                         'qty': 20,\n",
    "                         'price': 80,\n",
    "                         'isAvailable':1,\n",
    "                         'Expiry':'1/10/2023'},\n",
    "                 1032 : {'name': 'goggle',\n",
    "                         'qty': 50,\n",
    "                         'price': 300,\n",
    "                         'isAvailable':1,\n",
    "                         'Expiry':'1/1/2023'},\n",
    "                 1033 : {'name': 'marker',\n",
    "                         'qty': 50,\n",
    "                         'price': 10,\n",
    "                         'isAvailable':1,\n",
    "                         'Expiry':'1/10/2023'},\n",
    "                 1034 : {'name': 'sketchpen',\n",
    "                         'qty': 40,\n",
    "                         'price': 5,\n",
    "                         'isAvailable':1,\n",
    "                         'Expiry':'10/10/2023'},\n",
    "                 1035 : {'name': 'oil pestal',\n",
    "                         'qty': 50,\n",
    "                         'price': 50,\n",
    "                         'isAvailable':1,\n",
    "                         'Expiry':'1/12/2023'},\n",
    "                 1036 : {'name': 'water color',\n",
    "                         'qty': 50,\n",
    "                         'price': 60,\n",
    "                         'isAvailable':1,\n",
    "                         'Expiry':'1/1/2023'},\n",
    "                 1037 : {'name': 'drawing book',\n",
    "                         'qty': 20,\n",
    "                         'price': 60,\n",
    "                         'isAvailable':1,\n",
    "                         'Expiry':'1/4/2024'},\n",
    "                 1038 : {'name': 'mobile cover',\n",
    "                         'qty': 100,\n",
    "                         'price': 100,\n",
    "                         'isAvailable':1,\n",
    "                         'Expiry':'1/10/2023'},\n",
    "                 1039 : {'name': 'shev',\n",
    "                         'qty': 30,\n",
    "                         'price': 120,\n",
    "                         'isAvailable':1,\n",
    "                         'Expiry':'10/8/2023'},\n",
    "                 1040 : {'name': 'masala',\n",
    "                         'qty': 50,\n",
    "                         'price': 30,\n",
    "                         'isAvailable':1,\n",
    "                         'Expiry':'1/10/2024'},\n",
    "                 1041 : {'name': 'soup',\n",
    "                         'qty': 50,\n",
    "                         'price': 5,\n",
    "                         'isAvailable':1,\n",
    "                         'Expiry':'1/7/2024'},\n",
    "                 1042 : {'name': 'broom',\n",
    "                         'qty': 20,\n",
    "                         'price': 70,\n",
    "                         'isAvailable':1,\n",
    "                         'Expiry':'1/10/2021'},\n",
    "                 1043 : {'name': 'chair',\n",
    "                         'qty': 25,\n",
    "                         'price': 800,\n",
    "                         'isAvailable':1,\n",
    "                         'Expiry':'1/3/2024'},\n",
    "                 1044 : {'name': 'lamp',\n",
    "                         'qty': 10,\n",
    "                         'price': 300,\n",
    "                         'isAvailable':1,\n",
    "                         'Expiry':'1/11/2024'},\n",
    "                 1045 : {'name': 'rular',\n",
    "                         'qty': 100,\n",
    "                         'price': 5,\n",
    "                         'isAvailable':1,\n",
    "                         'Expiry':'1/10/2027'},\n",
    "                 1046 : {'name': 'sharpner',\n",
    "                         'qty': 50,\n",
    "                         'price': 5,\n",
    "                         'isAvailable':1,\n",
    "                         'Expiry':'1/6/2024'},\n",
    "                 1047 : {'name': 'eraser',\n",
    "                         'qty': 200,\n",
    "                         'price': 3,\n",
    "                         'isAvailable':1,\n",
    "                         'Expiry':'1/10/2025'},\n",
    "                 1048 : {'name': 'cradt paper',\n",
    "                         'qty': 50,\n",
    "                         'price': 2,\n",
    "                         'isAvailable':1,\n",
    "                         'Expiry':'10/6/2024'},\n",
    "                 1049 : {'name': 'needle',\n",
    "                         'qty': 30,\n",
    "                         'price': 5,\n",
    "                         'isAvailable':1,\n",
    "                         'Expiry':'1/12/2023'},\n",
    "                 1050 : {'name': 'matchbox',\n",
    "                         'qty': 200,\n",
    "                         'price': 1,\n",
    "                         'isAvailable':1,\n",
    "                         'Expiry':'1/10/2024'},\n",
    "                }"
   ]
  },
  {
   "cell_type": "code",
   "execution_count": 2,
   "id": "adcb571c",
   "metadata": {},
   "outputs": [
    {
     "data": {
      "text/plain": [
       "dict"
      ]
     },
     "execution_count": 2,
     "metadata": {},
     "output_type": "execute_result"
    }
   ],
   "source": [
    "type(stock_records)"
   ]
  },
  {
   "cell_type": "code",
   "execution_count": 3,
   "id": "49614e37",
   "metadata": {},
   "outputs": [],
   "source": [
    "import json"
   ]
  },
  {
   "cell_type": "code",
   "execution_count": 4,
   "id": "8482b27b",
   "metadata": {},
   "outputs": [],
   "source": [
    "data = json.dumps(stock_records)\n",
    "\n",
    "fp = open(\"records.json\", \"w\")\n",
    "fp.write(data)\n",
    "fp.close()"
   ]
  },
  {
   "cell_type": "markdown",
   "id": "074aea5d",
   "metadata": {},
   "source": [
    "# Inserting new items:"
   ]
  },
  {
   "cell_type": "code",
   "execution_count": 5,
   "id": "03a0204c",
   "metadata": {},
   "outputs": [
    {
     "name": "stdout",
     "output_type": "stream",
     "text": [
      "Enter the product id:1001\n",
      "Enter the product name:PEN\n",
      "Enter the quantity:50\n",
      "Enter the price of the product:10\n",
      "is the product available:[1/0]:1\n",
      "Enter expiry date:29/12/2023\n"
     ]
    }
   ],
   "source": [
    "pdt_id = input(\"Enter the product id:\")\n",
    "name = input(\"Enter the product name:\")\n",
    "qty = int(input(\"Enter the quantity:\"))\n",
    "price = int(input(\"Enter the price of the product:\"))\n",
    "isAvailable = int(input(\"is the product available:[1/0]:\"))\n",
    "expiry = input(\"Enter expiry date:\")"
   ]
  },
  {
   "cell_type": "markdown",
   "id": "70f14267",
   "metadata": {},
   "source": [
    "# Displaying the previous records:"
   ]
  },
  {
   "cell_type": "code",
   "execution_count": 6,
   "id": "f3b83c39",
   "metadata": {},
   "outputs": [],
   "source": [
    "fp = open(\"records.json\", \"r\")\n",
    "data = fp.read()\n",
    "fp.close()\n",
    "\n",
    "prev_records = json.loads(data)"
   ]
  },
  {
   "cell_type": "code",
   "execution_count": 7,
   "id": "70371426",
   "metadata": {},
   "outputs": [
    {
     "data": {
      "text/plain": [
       "{'name': 'pen',\n",
       " 'qty': 50,\n",
       " 'price': 10,\n",
       " 'isAvailable': 1,\n",
       " 'Expiry': '5/10/2021'}"
      ]
     },
     "execution_count": 7,
     "metadata": {},
     "output_type": "execute_result"
    }
   ],
   "source": [
    "prev_records[pdt_id]"
   ]
  },
  {
   "cell_type": "code",
   "execution_count": 8,
   "id": "ec63d7af",
   "metadata": {},
   "outputs": [
    {
     "data": {
      "text/plain": [
       "dict"
      ]
     },
     "execution_count": 8,
     "metadata": {},
     "output_type": "execute_result"
    }
   ],
   "source": [
    "type(prev_records)"
   ]
  },
  {
   "cell_type": "markdown",
   "id": "bddd4534",
   "metadata": {},
   "source": [
    "# Inserting new records in the record.json file or updating if the product id is already existing"
   ]
  },
  {
   "cell_type": "code",
   "execution_count": 10,
   "id": "5a299ac1",
   "metadata": {},
   "outputs": [],
   "source": [
    "if (pdt_id in prev_records.keys()):\n",
    "    prev_records[pdt_id]['qty'] += qty\n",
    "else:\n",
    "    prev_records[pdt_id] = { 'name': name,\n",
    "                             'qty': qty,\n",
    "                             'price': price,\n",
    "                             'isAvailable': isAvailable,\n",
    "                             'Expiry': expiry}"
   ]
  },
  {
   "cell_type": "code",
   "execution_count": 11,
   "id": "a3cf332b",
   "metadata": {},
   "outputs": [
    {
     "data": {
      "text/plain": [
       "{'name': 'pen',\n",
       " 'qty': 100,\n",
       " 'price': 10,\n",
       " 'isAvailable': 1,\n",
       " 'Expiry': '5/10/2021'}"
      ]
     },
     "execution_count": 11,
     "metadata": {},
     "output_type": "execute_result"
    }
   ],
   "source": [
    "prev_records[pdt_id]"
   ]
  },
  {
   "cell_type": "code",
   "execution_count": 14,
   "id": "ff5718b4",
   "metadata": {},
   "outputs": [
    {
     "name": "stdout",
     "output_type": "stream",
     "text": [
      "Enter the product id:1001\n",
      "Enter the product name:pen\n",
      "Enter the quantity:10\n",
      "Enter the price of the product:10\n",
      "is the product available:[1/0]:1\n",
      "Enter expiry date:22/12/2023\n",
      "do you want to add another record? [yes: 1/ No :0]1\n",
      "Enter the product id:1055\n",
      "Enter the product name:lux\n",
      "Enter the quantity:78\n",
      "Enter the price of the product:30\n",
      "is the product available:[1/0]:1\n",
      "Enter expiry date:12/12/2022\n",
      "do you want to add another record? [yes: 1/ No :0]0\n"
     ]
    }
   ],
   "source": [
    "def add_new_inventory():\n",
    "    \n",
    "    # taking input from the user\n",
    "    pdt_id = input(\"Enter the product id:\")\n",
    "    name = input(\"Enter the product name:\")\n",
    "    qty = int(input(\"Enter the quantity:\"))\n",
    "    price = int(input(\"Enter the price of the product:\"))\n",
    "    isAvailable = int(input(\"is the product available:[1/0]:\"))\n",
    "    expiry = input(\"Enter expiry date:\")\n",
    "    fp = open(\"records.json\", \"r\")\n",
    "    data = fp.read()\n",
    "    fp.close()\n",
    "    prev_records = json.loads(data)\n",
    "    if (pdt_id in prev_records.keys()):\n",
    "        prev_records[pdt_id]['qty'] += qty\n",
    "    else:\n",
    "        prev_records[pdt_id] = { 'name': name,\n",
    "                                 'qty': qty,\n",
    "                                 'price': price,\n",
    "                                 'isAvailable': isAvailable,\n",
    "                                 'Expiry': expiry}\n",
    "    data = json.dumps(prev_records)\n",
    "    fp = open(\"records.json\", 'w')\n",
    "    fp.write(data)\n",
    "    fp.close()\n",
    "a = 1\n",
    "while(a==1):\n",
    "    add_new_inventory()\n",
    "    a = int(input(\"do you want to add another record? [yes: 1/ No :0]\"))"
   ]
  }
 ],
 "metadata": {
  "kernelspec": {
   "display_name": "Python 3",
   "language": "python",
   "name": "python3"
  },
  "language_info": {
   "codemirror_mode": {
    "name": "ipython",
    "version": 3
   },
   "file_extension": ".py",
   "mimetype": "text/x-python",
   "name": "python",
   "nbconvert_exporter": "python",
   "pygments_lexer": "ipython3",
   "version": "3.8.8"
  }
 },
 "nbformat": 4,
 "nbformat_minor": 5
}
