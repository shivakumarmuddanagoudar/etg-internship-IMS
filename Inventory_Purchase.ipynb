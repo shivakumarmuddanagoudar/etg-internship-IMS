{
 "cells": [
  {
   "cell_type": "code",
   "execution_count": 1,
   "id": "f32e65a4",
   "metadata": {},
   "outputs": [],
   "source": [
    "import json\n",
    "\n",
    "fp = open(\"records.json\", \"r\")\n",
    "data = fp.read()\n",
    "fp. close()\n",
    "\n",
    "records = json.loads(data)"
   ]
  },
  {
   "cell_type": "code",
   "execution_count": 2,
   "id": "691b0133",
   "metadata": {},
   "outputs": [
    {
     "data": {
      "text/plain": [
       "dict"
      ]
     },
     "execution_count": 2,
     "metadata": {},
     "output_type": "execute_result"
    }
   ],
   "source": [
    "type(records)"
   ]
  },
  {
   "cell_type": "markdown",
   "id": "d8a29fe5",
   "metadata": {},
   "source": [
    "# The newly inserted record:"
   ]
  },
  {
   "cell_type": "code",
   "execution_count": 3,
   "id": "b00402a7",
   "metadata": {},
   "outputs": [
    {
     "data": {
      "text/plain": [
       "{'name': 'lux',\n",
       " 'qty': 78,\n",
       " 'price': 30,\n",
       " 'isAvailable': 1,\n",
       " 'Expiry': '12/12/2022'}"
      ]
     },
     "execution_count": 3,
     "metadata": {},
     "output_type": "execute_result"
    }
   ],
   "source": [
    "records['1055']"
   ]
  },
  {
   "cell_type": "code",
   "execution_count": 4,
   "id": "d5cf5a7c",
   "metadata": {},
   "outputs": [
    {
     "name": "stdout",
     "output_type": "stream",
     "text": [
      "Enter the product id:1055\n",
      "Enter the quantity of product bought:4\n",
      "Enter custmer name:iqra\n",
      "Enter customer mobile number:7777777\n",
      "*************************************\n",
      " Bill \n",
      "*************************************\n",
      "Customer name: iqra\n",
      "Customer mobile no: 7777777\n",
      "____________________________________\n",
      "Product id: 1055\n",
      "Product name: lux\n",
      "quantity: 4\n",
      "price: 30\n",
      "____________________________________\n",
      "Total Amount: 120 \n",
      "\n"
     ]
    }
   ],
   "source": [
    "pdt_id = input(\"Enter the product id:\")\n",
    "qty = int(input(\"Enter the quantity of product bought:\"))\n",
    "cst_name = input(\"Enter custmer name:\")\n",
    "cst_mob = input(\"Enter customer mobile number:\")\n",
    "if pdt_id in records.keys() and records[pdt_id]['isAvailable']==1:\n",
    "    if (qty <= records[pdt_id]['qty']):\n",
    "        # Generate the bill:\n",
    "        print(\"*************************************\\n Bill \\n*************************************\")\n",
    "        print(\"Customer name:\",cst_name)\n",
    "        print(\"Customer mobile no:\", cst_mob)\n",
    "        print(\"____________________________________\")\n",
    "        print(\"Product id:\",pdt_id)\n",
    "        print(\"Product name:\",records[pdt_id]['name'])\n",
    "        print(\"quantity:\",qty)\n",
    "        print(\"price:\",records[pdt_id]['price'])\n",
    "        print(\"____________________________________\")\n",
    "        print(\"Total Amount:\", qty * records[pdt_id]['price'],\"\\n\")\n",
    "        \n",
    "        # update the qty in the records\n",
    "        records[pdt_id]['qty'] -= qty\n",
    "        \n",
    "        if (records[pdt_id]['qty'] == 0):\n",
    "            records[pdt_id]['isAvailable']=0\n",
    "    else:\n",
    "        print(\"The given product is not available in the given quantity\")\n",
    "else:\n",
    "    print(\"Wrong product id or product currently not available\")"
   ]
  },
  {
   "cell_type": "markdown",
   "id": "c0c3a32a",
   "metadata": {},
   "source": [
    "# Updation of the changes in the records.json file:"
   ]
  },
  {
   "cell_type": "code",
   "execution_count": 5,
   "id": "b680f63f",
   "metadata": {},
   "outputs": [],
   "source": [
    "data = json.dumps(records)\n",
    "\n",
    "fp = open(\"records.json\", \"w\")\n",
    "fp.write(data)\n",
    "fp.close()"
   ]
  },
  {
   "cell_type": "code",
   "execution_count": 6,
   "id": "9f92ce6d",
   "metadata": {},
   "outputs": [],
   "source": [
    "initial_sales_count = {'n_sales' : 0}\n",
    "data = json.dumps(initial_sales_count)\n",
    "\n",
    "fp = open(\"sales.json\", 'w')\n",
    "fp.write(data)\n",
    "fp.close()"
   ]
  },
  {
   "cell_type": "markdown",
   "id": "ef29aeb4",
   "metadata": {},
   "source": [
    "# Recording time:"
   ]
  },
  {
   "cell_type": "code",
   "execution_count": 7,
   "id": "95569f9b",
   "metadata": {},
   "outputs": [
    {
     "name": "stdout",
     "output_type": "stream",
     "text": [
      "Mon Sep  6 05:00:00 2021\n"
     ]
    },
    {
     "data": {
      "text/plain": [
       "str"
      ]
     },
     "execution_count": 7,
     "metadata": {},
     "output_type": "execute_result"
    }
   ],
   "source": [
    "import time \n",
    "dt = time.ctime()\n",
    "print(dt)\n",
    "type(dt)"
   ]
  },
  {
   "cell_type": "code",
   "execution_count": 10,
   "id": "157e90be",
   "metadata": {},
   "outputs": [],
   "source": [
    "import json\n",
    "import time\n",
    "\n",
    "def purchase():\n",
    "    fp = open(\"records.json\", \"r\")\n",
    "    data = fp.read()\n",
    "    fp. close()\n",
    "\n",
    "    records = json.loads(data)\n",
    "    pdt_id = input(\"Enter the product id:\")\n",
    "    qty = int(input(\"Enter the quantity of product bought:\"))\n",
    "    cst_name = input(\"Enter custmer name:\")\n",
    "    cst_mob = input(\"Enter customer mobile number:\")\n",
    "    if pdt_id in records.keys() and records[pdt_id]['isAvailable']==1:\n",
    "        if (qty <= records[pdt_id]['qty']):\n",
    "            print(\"*************************************\\n Bill \\n*************************************\")\n",
    "            print(\"Customer name:\",cst_name)\n",
    "            print(\"Customer mobile no:\", cst_mob)\n",
    "            print(\"____________________________________\")\n",
    "            print(\"Product id:\",pdt_id)\n",
    "            print(\"Product name:\",records[pdt_id]['name'])\n",
    "            print(\"quantity:\",qty)\n",
    "            print(\"price:\",records[pdt_id]['price'])\n",
    "            print(\"____________________________________\")\n",
    "            print(\"Total Amount:\", qty * records[pdt_id]['price'],\"\\n\")\n",
    "\n",
    "            # update the qty in the records\n",
    "            records[pdt_id]['qty'] -= qty\n",
    "\n",
    "            if (records[pdt_id]['qty'] == 0):\n",
    "                records[pdt_id]['isAvailable']=0\n",
    "        else:\n",
    "            print(\"The given product is not available in the given quantity\")\n",
    "    else:\n",
    "        print(\"Wrong product id or product currently not available\")\n",
    "    data = json.dumps(records)\n",
    "\n",
    "    fp = open(\"records.json\", \"w\")\n",
    "    fp.write(data)\n",
    "    fp.close()\n",
    "    \n",
    "    # updating the sales\n",
    "    sales_fp = open(\"sales.json\", \"r\")\n",
    "    data = sales_fp.read()\n",
    "    sales_fp.close()\n",
    "\n",
    "    sales = json.loads(data)\n",
    "\n",
    "    sales['n_sales'] +=1\n",
    "    i = sales['n_sales']\n",
    "\n",
    "    sale = {'date and time':time.ctime(),\n",
    "            'product id':pdt_id,\n",
    "            'name':records[pdt_id]['name'],\n",
    "            'amount':qty * records[pdt_id]['price'],\n",
    "            'customer name':cst_name,\n",
    "            'customer mobile':cst_mob}\n",
    "    sales[i] = sale\n",
    "     \n",
    "    \n",
    "    # updating in the sales.json file\n",
    "    data = json.dumps(sales)\n",
    "\n",
    "    sales_fp = open(\"sales.json\", \"w\")\n",
    "    sales_fp.write(data)\n",
    "    sales_fp.close()"
   ]
  },
  {
   "cell_type": "code",
   "execution_count": 11,
   "id": "45ad3721",
   "metadata": {},
   "outputs": [
    {
     "name": "stdout",
     "output_type": "stream",
     "text": [
      "Enter the product id:1001\n",
      "Enter the quantity of product bought:5\n",
      "Enter custmer name:iqra\n",
      "Enter customer mobile number:99999999\n",
      "*************************************\n",
      " Bill \n",
      "*************************************\n",
      "Customer name: iqra\n",
      "Customer mobile no: 99999999\n",
      "____________________________________\n",
      "Product id: 1001\n",
      "Product name: pen\n",
      "quantity: 5\n",
      "price: 10\n",
      "____________________________________\n",
      "Total Amount: 50 \n",
      "\n"
     ]
    }
   ],
   "source": [
    "purchase()"
   ]
  },
  {
   "cell_type": "code",
   "execution_count": null,
   "id": "e4246caa",
   "metadata": {},
   "outputs": [],
   "source": []
  }
 ],
 "metadata": {
  "kernelspec": {
   "display_name": "Python 3",
   "language": "python",
   "name": "python3"
  },
  "language_info": {
   "codemirror_mode": {
    "name": "ipython",
    "version": 3
   },
   "file_extension": ".py",
   "mimetype": "text/x-python",
   "name": "python",
   "nbconvert_exporter": "python",
   "pygments_lexer": "ipython3",
   "version": "3.8.8"
  }
 },
 "nbformat": 4,
 "nbformat_minor": 5
}
